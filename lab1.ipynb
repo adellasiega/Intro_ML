{
 "cells": [
  {
   "cell_type": "markdown",
   "metadata": {},
   "source": [
    "# Lab 1\n",
    "\n",
    "## Goal\n",
    "Given the well known _iris_ dataset, find a ML-based way to tell which is the hardest variable to be predicted, given the other variables, and motivate the answer."
   ]
  },
  {
   "cell_type": "markdown",
   "metadata": {},
   "source": [
    "## Setting the environment"
   ]
  },
  {
   "cell_type": "code",
   "execution_count": 38,
   "metadata": {},
   "outputs": [],
   "source": [
    "# Very important imports\n",
    "\n",
    "import pandas as pd\n",
    "import matplotlib.pyplot as plt\n",
    "from sklearn.datasets import load_iris\n",
    "from sklearn.tree import DecisionTreeClassifier, DecisionTreeRegressor\n",
    "from sklearn.model_selection import cross_val_score"
   ]
  },
  {
   "cell_type": "markdown",
   "metadata": {},
   "source": [
    "## Data exploration "
   ]
  },
  {
   "cell_type": "code",
   "execution_count": 39,
   "metadata": {},
   "outputs": [],
   "source": [
    "# Load the data as a pandas dataframe with 5 variables\n",
    "\n",
    "iris = load_iris(as_frame=True)\n",
    "df = iris[\"data\"]\n",
    "df[\"species\"] = iris[\"target\"]"
   ]
  },
  {
   "cell_type": "code",
   "execution_count": 40,
   "metadata": {},
   "outputs": [
    {
     "name": "stdout",
     "output_type": "stream",
     "text": [
      "<class 'pandas.core.frame.DataFrame'>\n",
      "RangeIndex: 150 entries, 0 to 149\n",
      "Data columns (total 5 columns):\n",
      " #   Column             Non-Null Count  Dtype  \n",
      "---  ------             --------------  -----  \n",
      " 0   sepal length (cm)  150 non-null    float64\n",
      " 1   sepal width (cm)   150 non-null    float64\n",
      " 2   petal length (cm)  150 non-null    float64\n",
      " 3   petal width (cm)   150 non-null    float64\n",
      " 4   species            150 non-null    int64  \n",
      "dtypes: float64(4), int64(1)\n",
      "memory usage: 6.0 KB\n"
     ]
    }
   ],
   "source": [
    "# Retrieve useful information about the dataframe\n",
    "\n",
    "df.info()"
   ]
  },
  {
   "cell_type": "code",
   "execution_count": 41,
   "metadata": {},
   "outputs": [
    {
     "data": {
      "text/html": [
       "<div>\n",
       "<style scoped>\n",
       "    .dataframe tbody tr th:only-of-type {\n",
       "        vertical-align: middle;\n",
       "    }\n",
       "\n",
       "    .dataframe tbody tr th {\n",
       "        vertical-align: top;\n",
       "    }\n",
       "\n",
       "    .dataframe thead th {\n",
       "        text-align: right;\n",
       "    }\n",
       "</style>\n",
       "<table border=\"1\" class=\"dataframe\">\n",
       "  <thead>\n",
       "    <tr style=\"text-align: right;\">\n",
       "      <th></th>\n",
       "      <th>sepal length (cm)</th>\n",
       "      <th>sepal width (cm)</th>\n",
       "      <th>petal length (cm)</th>\n",
       "      <th>petal width (cm)</th>\n",
       "      <th>species</th>\n",
       "    </tr>\n",
       "  </thead>\n",
       "  <tbody>\n",
       "    <tr>\n",
       "      <th>0</th>\n",
       "      <td>5.1</td>\n",
       "      <td>3.5</td>\n",
       "      <td>1.4</td>\n",
       "      <td>0.2</td>\n",
       "      <td>0</td>\n",
       "    </tr>\n",
       "    <tr>\n",
       "      <th>1</th>\n",
       "      <td>4.9</td>\n",
       "      <td>3.0</td>\n",
       "      <td>1.4</td>\n",
       "      <td>0.2</td>\n",
       "      <td>0</td>\n",
       "    </tr>\n",
       "    <tr>\n",
       "      <th>2</th>\n",
       "      <td>4.7</td>\n",
       "      <td>3.2</td>\n",
       "      <td>1.3</td>\n",
       "      <td>0.2</td>\n",
       "      <td>0</td>\n",
       "    </tr>\n",
       "    <tr>\n",
       "      <th>3</th>\n",
       "      <td>4.6</td>\n",
       "      <td>3.1</td>\n",
       "      <td>1.5</td>\n",
       "      <td>0.2</td>\n",
       "      <td>0</td>\n",
       "    </tr>\n",
       "    <tr>\n",
       "      <th>4</th>\n",
       "      <td>5.0</td>\n",
       "      <td>3.6</td>\n",
       "      <td>1.4</td>\n",
       "      <td>0.2</td>\n",
       "      <td>0</td>\n",
       "    </tr>\n",
       "  </tbody>\n",
       "</table>\n",
       "</div>"
      ],
      "text/plain": [
       "   sepal length (cm)  sepal width (cm)  petal length (cm)  petal width (cm)  \\\n",
       "0                5.1               3.5                1.4               0.2   \n",
       "1                4.9               3.0                1.4               0.2   \n",
       "2                4.7               3.2                1.3               0.2   \n",
       "3                4.6               3.1                1.5               0.2   \n",
       "4                5.0               3.6                1.4               0.2   \n",
       "\n",
       "   species  \n",
       "0        0  \n",
       "1        0  \n",
       "2        0  \n",
       "3        0  \n",
       "4        0  "
      ]
     },
     "execution_count": 41,
     "metadata": {},
     "output_type": "execute_result"
    }
   ],
   "source": [
    "# Print first rows of the dataframe\n",
    "\n",
    "df.head()"
   ]
  },
  {
   "cell_type": "code",
   "execution_count": 42,
   "metadata": {},
   "outputs": [
    {
     "data": {
      "image/png": "[encoded data removed]",
      "text/plain": [
       "<Figure size 1000x800 with 6 Axes>"
      ]
     },
     "metadata": {},
     "output_type": "display_data"
    }
   ],
   "source": [
    "# Basic exploratory analysis to observe the distribution of the variables\n",
    "\n",
    "df.hist(figsize=(10, 8))\n",
    "plt.suptitle(\"Histograms of Iris variables\")\n",
    "plt.show()"
   ]
  },
  {
   "cell_type": "markdown",
   "metadata": {},
   "source": [
    "## Naive solution\n",
    "\n",
    "Let us fit a decision tree for each possible choice of the response variable among the five variables of the dataframe. The model which will achieve the highest error on k-fold cross validations is dealing with the variable that is hardest to predict."
   ]
  },
  {
   "cell_type": "code",
   "execution_count": 43,
   "metadata": {},
   "outputs": [
    {
     "name": "stdout",
     "output_type": "stream",
     "text": [
      "Model with response variable sepal length (cm) achieved neg_mean_squared_error of -0.17 \n",
      "\n",
      "Model with response variable sepal width (cm) achieved neg_mean_squared_error of -0.09 \n",
      "\n",
      "Model with response variable petal length (cm) achieved neg_mean_squared_error of -0.14 \n",
      "\n",
      "Model with response variable petal width (cm) achieved neg_mean_squared_error of -0.04 \n",
      "\n",
      "Model with response variable species achieved accuracy of 0.97 \n",
      "\n"
     ]
    }
   ],
   "source": [
    "for variable in df.columns:\n",
    "    X, y = df.drop(columns=[variable]), df[variable]\n",
    "    \n",
    "    if variable != \"species\":\n",
    "        tree = DecisionTreeRegressor(random_state=314,\n",
    "                                     criterion=\"squared_error\",\n",
    "                                     max_depth=3,\n",
    "                                     min_samples_split=10)\n",
    "        metric = \"neg_mean_squared_error\"\n",
    "\n",
    "    else:\n",
    "        tree = DecisionTreeClassifier(random_state=314,\n",
    "                                      criterion=\"gini\",\n",
    "                                      max_depth=3,\n",
    "                                      min_samples_split=10)\n",
    "        metric = \"accuracy\"\n",
    "    \n",
    "    # Perform k-fold cross validation to get scores (MSE or accuracy according to the kind of tree)\n",
    "    scores = cross_val_score(tree, X, y, cv = 5, scoring=metric)\n",
    "    \n",
    "    print(f\"Model with response variable {variable} achieved {metric} of {scores.mean():.2f} \\n\")"
   ]
  },
  {
   "cell_type": "markdown",
   "metadata": {},
   "source": [
    "Is it better an accuracy of $0.97$ or a mean squared error of $0.04$? We can see that this approach does not yield a reasonable response: we are comparing metrics which measure different types of error. \n",
    "\n",
    "However, we can assert that a zero error is an excellent performance, whether it's represented by an accuracy of $1$ or a mean squared error of $0$. Let's think about it..."
   ]
  },
  {
   "cell_type": "markdown",
   "metadata": {},
   "source": [
    "## Second solution\n",
    "Since the problem is that we cannot compare the absolute values of the error, one possibility is to consider the complexity a model exhibits for obtaining an error of $0$. The rationale is that $0$ is comparable with $0$, since they both represent the absence of any error, regardless of the scale. We need hence a way for measuring the complexity: for trees, this is easy, since we can simply count the number of nodes.\n",
    "\n",
    "We remove the constraints on the complexity of the fitted tree. Each fitted train will achieve perfect results. Please note that, we are not using K-fold CV.\n"
   ]
  },
  {
   "cell_type": "code",
   "execution_count": 44,
   "metadata": {},
   "outputs": [
    {
     "name": "stdout",
     "output_type": "stream",
     "text": [
      "Model with response variable sepal length (cm) requires 261 nodes to reach zero error.\n",
      "\n",
      "Model with response variable sepal width (cm) requires 263 nodes to reach zero error.\n",
      "\n",
      "Model with response variable petal length (cm) requires 267 nodes to reach zero error.\n",
      "\n",
      "Model with response variable petal width (cm) requires 221 nodes to reach zero error.\n",
      "\n",
      "Model with response variable species requires 17 nodes to reach zero error.\n",
      "\n"
     ]
    }
   ],
   "source": [
    "for variable in df.columns:\n",
    "    \n",
    "    X, y = df.drop(columns=[variable]), df[variable]\n",
    "    \n",
    "    if variable != \"species\":\n",
    "        tree = DecisionTreeRegressor(random_state=314,\n",
    "                                     criterion=\"squared_error\")\n",
    "\n",
    "    else:\n",
    "        tree = DecisionTreeClassifier(random_state=314,\n",
    "                                      criterion=\"gini\")\n",
    "    \n",
    "    # Fit the model\n",
    "    tree.fit(X,y)\n",
    "    \n",
    "    print(f\"Model with response variable {variable} requires {tree.tree_.node_count} nodes to reach zero error.\\n\")"
   ]
  },
  {
   "cell_type": "markdown",
   "metadata": {},
   "source": [
    "Based on this observation, achieving perfect regression requires more nodes than achieving perfect classification. This suggests that classification could be inherently easier than regression.\n",
    "\n",
    "In conclusion, we write a complete procedure for solving the exercise according to the complexity method."
   ]
  },
  {
   "cell_type": "code",
   "execution_count": 45,
   "metadata": {},
   "outputs": [],
   "source": [
    "def hardest_to_predict(df, categorical_variable=\"species\"):\n",
    "    hardest_variable = None\n",
    "    max_nodes = -1\n",
    "\n",
    "    for variable in df.columns:\n",
    "        X, y = df.drop(columns=[variable]), df[variable]\n",
    "        \n",
    "        if variable != categorical_variable:\n",
    "            tree = DecisionTreeRegressor(random_state=314, criterion=\"squared_error\")\n",
    "        else:\n",
    "            tree = DecisionTreeClassifier(random_state=314, criterion=\"gini\")\n",
    "        \n",
    "        # Fit the tree model\n",
    "        tree.fit(X, y)\n",
    "        \n",
    "        # Get the number of nodes in the tree\n",
    "        node_count = tree.tree_.node_count\n",
    "                \n",
    "        # Update hardest variable if this tree has more nodes\n",
    "        if node_count > max_nodes:\n",
    "            max_nodes = node_count\n",
    "            hardest_variable = variable\n",
    "\n",
    "    # Return the hardest variable and its node count\n",
    "    return hardest_variable, max_nodes"
   ]
  },
  {
   "cell_type": "code",
   "execution_count": 46,
   "metadata": {},
   "outputs": [
    {
     "name": "stdout",
     "output_type": "stream",
     "text": [
      "The hardest variable to predict is petal length (cm) which requires 267 nodes.\n"
     ]
    }
   ],
   "source": [
    "hardest_variable, max_nodes = hardest_to_predict(df)\n",
    "print(\"The hardest variable to predict is\", hardest_variable, \"which requires\", max_nodes, \"nodes.\")"
   ]
  }
 ],
 "metadata": {
  "kernelspec": {
   "display_name": "Python 3",
   "language": "python",
   "name": "python3"
  },
  "language_info": {
   "codemirror_mode": {
    "name": "ipython",
    "version": 3
   },
   "file_extension": ".py",
   "mimetype": "text/x-python",
   "name": "python",
   "nbconvert_exporter": "python",
   "pygments_lexer": "ipython3",
   "version": "3.12.3"
  }
 },
 "nbformat": 4,
 "nbformat_minor": 2
}
